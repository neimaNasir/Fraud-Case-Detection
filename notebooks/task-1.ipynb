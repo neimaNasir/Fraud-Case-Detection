{
 "cells": [
  {
   "cell_type": "markdown",
   "metadata": {},
   "source": [
    "# Task 1 - Data Analysis and Preprocessing"
   ]
  },
  {
   "cell_type": "code",
   "execution_count": null,
   "metadata": {},
   "outputs": [],
   "source": [
    "# Import necessary libraries\n",
    "import pandas as pd\n",
    "import numpy as np\n",
    "import matplotlib.pyplot as plt\n",
    "import seaborn as sns\n",
    "import socket\n",
    "import struct\n",
    "import geopandas as gpd\n",
    "import os, sys\n",
    "\n",
    "# Add the 'scripts' directory to the Python path for module imports\n",
    "sys.path.append(os.path.abspath(os.path.join('..', 'scripts')))\n",
    "\n",
    "# Set max rows and columns to display\n",
    "pd.set_option('display.max_columns', 200)\n",
    "pd.set_option('display.max_rows', 200)\n",
    "\n",
    "# Configure logging\n",
    "from logger import SetupLogger\n",
    "\n",
    "# Assuming this class is defined in scripts/\n",
    "from data_preprocessor import DataPreprocessor  \n",
    "from data_visualizer import DataVisualizer\n",
    "from geolocation_analyzer import GeolocationAnalyzer\n",
    "from feature_engineering import FeatureEngineering\n",
    "\n",
    "logger = SetupLogger(log_file='../logs/notebooks.log').get_logger()"
   ]
  },
  {
   "cell_type": "markdown",
   "metadata": {},
   "source": [
    "**Loading the Data**"
   ]
  },
  {
   "cell_type": "code",
   "execution_count": null,
   "metadata": {},
   "outputs": [],
   "source": [
    "# Initialize the DataPreprocessor with the logger and the path to the dataset\n",
    "data_preprocessor = DataPreprocessor(filepath='../data/Fraud_Data.csv', logger=logger)"
   ]
  },
  {
   "cell_type": "code",
   "execution_count": null,
   "metadata": {},
   "outputs": [],
   "source": [
    "# Load the dataset\n",
    "fraud_data = data_preprocessor.load_dataset()"
   ]
  },
  {
   "cell_type": "markdown",
   "metadata": {},
   "source": [
    "**Understand the Properties Data**"
   ]
  },
  {
   "cell_type": "markdown",
   "metadata": {},
   "source": [
    "- This step provides an overview of the dataset, including displaying the first few rows, dataset information, and a summary of basic statistic."
   ]
  },
  {
   "cell_type": "code",
   "execution_count": null,
   "metadata": {},
   "outputs": [],
   "source": [
    "# First 5 rows of the dataset\n",
    "fraud_data.head(5)"
   ]
  },
  {
   "cell_type": "code",
   "execution_count": null,
   "metadata": {},
   "outputs": [],
   "source": [
    "# Dataset Information\n",
    "fraud_data.info()"
   ]
  },
  {
   "cell_type": "markdown",
   "metadata": {},
   "source": [
    "**Cleaning the Data**"
   ]
  },
  {
   "cell_type": "code",
   "execution_count": null,
   "metadata": {},
   "outputs": [],
   "source": [
    "These are:\n",
    "\n",
    "- Handle missing values\n",
    "- Convert data types\n",
    "- Handle duplicates"
   ]
  },
  {
   "cell_type": "code",
   "execution_count": null,
   "metadata": {},
   "outputs": [],
   "source": [
    "# Check for missing values in the dataset\n",
    "missing_values = fraud_data.isnull().sum()\n",
    "print(\"Missing Values in Each Column:\")\n",
    "print(missing_values)\n",
    "\n",
    "# Confirm if there are any missing values\n",
    "if missing_values.sum() == 0:\n",
    "    print(\"No missing values found in the dataset.\")\n",
    "else:\n",
    "    print(f\"There are {missing_values.sum()} missing values in the dataset.\")"
   ]
  },
  {
   "cell_type": "markdown",
   "metadata": {},
   "source": [
    "- No missing values found in the dataset.\n",
    "\n",
    "===> **Short Summary**\n",
    "\n",
    "- **Missing Values:** No missing values found in the dataset.\n",
    "- **Data Types:** All data types are correct except for signup_time and purchase_time, which are currently of type object.\n",
    "- **Conversion:** The signup_time and purchase_time columns will be converted to standard datetime format."
   ]
  },
  {
   "cell_type": "markdown",
   "metadata": {},
   "source": [
    "**Conversion the Date type for signup_time and purchase_time**"
   ]
  },
  {
   "cell_type": "code",
   "execution_count": null,
   "metadata": {},
   "outputs": [],
   "source": [
    "# Convert 'signup_time' and 'purchase_time' to datetime format\n",
    "fraud_data['signup_time'] = pd.to_datetime(fraud_data['signup_time'], errors='coerce')\n",
    "fraud_data['purchase_time'] = pd.to_datetime(fraud_data['purchase_time'], errors='coerce')\n",
    "\n",
    "# Verify the data types after conversion\n",
    "print(\"Data Types After Conversion:\")\n",
    "print(fraud_data.dtypes)"
   ]
  },
  {
   "cell_type": "markdown",
   "metadata": {},
   "source": [
    "**Duplicate rows**"
   ]
  },
  {
   "cell_type": "code",
   "execution_count": null,
   "metadata": {},
   "outputs": [],
   "source": [
    "# Check for duplicate rows in the DataFrame\n",
    "duplicate_count = fraud_data.duplicated().sum()\n",
    "print(f\"Number of duplicate rows: {duplicate_count}\")\n",
    "\n",
    "if duplicate_count:\n",
    "    fraud_data.drop_duplicates(inplace=True)"
   ]
  },
  {
   "cell_type": "markdown",
   "metadata": {},
   "source": [
    "**Short summary:**\n",
    "\n",
    "- All data types are now in the appropriate format after conversion.\n",
    "\n",
    "- Specifically, signup_time and purchase_time have been successfully converted to standard datetime format.\n",
    "\n",
    "- No duplicated rows in the dataset"
   ]
  },
  {
   "cell_type": "markdown",
   "metadata": {},
   "source": [
    "**Summary Statistics**"
   ]
  },
  {
   "cell_type": "code",
   "execution_count": null,
   "metadata": {},
   "outputs": [],
   "source": [
    "# Summary Statistics of numerical features\n",
    "fraud_data.describe(include='number')"
   ]
  },
  {
   "cell_type": "markdown",
   "metadata": {},
   "source": [
    "**Short Summary:**\n",
    "\n",
    "- Data Overview: The dataset contains 151,112 records with the following features:\n",
    "\n",
    "- user_id: Ranges from 2 to 400,000, with a mean of 200,171.04.\n",
    "\n",
    "- purchase_value: Ranges from 9 to 154, with a mean of 36.94 and a standard deviation of 18.32.\n",
    "\n",
    "- age: Ranges from 18 to 76, with a mean of 33.14 and a standard deviation of 8.62.\n",
    "\n",
    "- ip_address: Values range significantly, indicating a wide geographical distribution.\n",
    "\n",
    "- class: Binary variable with a mean of 0.09, suggesting a low prevalence of the positive class."
   ]
  },
  {
   "cell_type": "code",
   "execution_count": null,
   "metadata": {},
   "outputs": [],
   "source": [
    "# Statistical summary of object data features\n",
    "fraud_data.describe(include='object')"
   ]
  },
  {
   "cell_type": "markdown",
   "metadata": {},
   "source": [
    "**Statistical summary:**\n",
    "\n",
    "- Data Overview: The dataset contains 151,112 records with the following features:\n",
    "\n",
    "- device_id: 137,956 unique values, with the most frequent device ID being CQTUVBYIWWWBC, which appears 20 times.\n",
    "\n",
    "- source: 3 unique sources, with SEO as the most common source, accounting for 60,615 records.\n",
    "\n",
    "- browser: 5 unique browsers, with Chrome being the most used, appearing in 61,432 records.\n",
    "\n",
    "- sex: 2 unique categories (M/F), with M (Male) being the predominant category, recorded 88,293 times."
   ]
  },
  {
   "cell_type": "markdown",
   "metadata": {},
   "source": [
    "# Exploratory Data Analysis (EDA)"
   ]
  },
  {
   "cell_type": "markdown",
   "metadata": {},
   "source": [
    "# Univariate Analysis"
   ]
  },
  {
   "cell_type": "markdown",
   "metadata": {},
   "source": [
    "- Numerical Features"
   ]
  },
  {
   "cell_type": "code",
   "execution_count": null,
   "metadata": {},
   "outputs": [],
   "source": [
    "# Define numerical features\n",
    "numerical_features = ['purchase_value', 'age']\n",
    "\n",
    "# Define categorical features\n",
    "categorical_features = ['source', 'browser', 'sex']\n",
    "\n",
    "# Create instance of the DataVisualizer(data, target_col)\n",
    "visualizer = DataVisualizer(fraud_data, numerical_features, categorical_features, 'class', logger)\n",
    "\n",
    "\n",
    "visualizer._plot_histograms()  # To plot histograms"
   ]
  },
  {
   "cell_type": "markdown",
   "metadata": {},
   "source": [
    "**Observation:**\n",
    "\n",
    "- Purchase Value Distribution: The distribution is right-skewed, with the majority of purchase values concentrated between 10 and 50. As the purchase value increases, the frequency drops, with very few transactions above 100.\n",
    "\n",
    "- Age Distribution: Similarly, the age distribution is right-skewed, with most individuals between the ages of 20 and 40. There are progressively fewer individuals as age increases beyond 40, with very few older than 60.\n",
    "\n",
    "- Skewness: Both distributions are right-skewed, indicating a decreasing frequency for higher purchase values and older individuals.\n",
    "\n",
    "- Categorical features"
   ]
  },
  {
   "cell_type": "code",
   "execution_count": null,
   "metadata": {},
   "outputs": [],
   "source": [
    "# Visualize the distribution\n",
    "visualizer._plot_counts() # To plot counts for categorical features"
   ]
  },
  {
   "cell_type": "markdown",
   "metadata": {},
   "source": [
    "**Observation:**\n",
    "\n",
    "- Source Distribution: SEO and Ads sources are nearly equally common, with each having close to 60,000 counts. Direct traffic is noticeably lower, with fewer than 40,000 counts.\n",
    "\n",
    "- Browser Distribution: Chrome is the most used browser, with around 60,000 users. Internet Explorer (IE) follows but with significantly lower usage. Safari and Firefox have similar, lower usage levels, while Opera has the least.\n",
    "\n",
    "- Sex Distribution: Males (M) are more frequent than females (F), with approximately 90,000 male users compared to around 70,000 female users."
   ]
  },
  {
   "cell_type": "markdown",
   "metadata": {},
   "source": [
    "**Bivariate Analysis**"
   ]
  },
  {
   "cell_type": "markdown",
   "metadata": {},
   "source": [
    "- Purchase Value vs Age"
   ]
  },
  {
   "cell_type": "code",
   "execution_count": null,
   "metadata": {},
   "outputs": [],
   "source": [
    "# Plot relationship between purchase_value vs age\n",
    "visualizer.plot_relationship()"
   ]
  },
  {
   "cell_type": "markdown",
   "metadata": {},
   "source": [
    "**Observation:**\n",
    "\n",
    "- Relationship: The scatter plot shows purchase value against age.\n",
    "\n",
    "- Pattern: Purchase values are fairly consistent across ages 20 to 50, with values spread between 20 and 140.\n",
    "\n",
    "- Decline: For ages above 50, purchase values gradually decrease, indicating fewer high-value purchases among older individuals.\n",
    "\n",
    "- Purchase Value by Sex"
   ]
  },
  {
   "cell_type": "code",
   "execution_count": null,
   "metadata": {},
   "outputs": [],
   "source": [
    "# Boxplot for purchase_value by sex\n",
    "visualizer._boxplot('sex', 'purchase_value')"
   ]
  },
  {
   "cell_type": "markdown",
   "metadata": {},
   "source": [
    "**Observation:**\n",
    "\n",
    "- Relationship: The box plot compares purchase values between two sexes: male (M) and female (F).\n",
    "\n",
    "- Pattern: The median purchase value is similar for both males and females. However, the distribution of purchase values differs:\n",
    "\n",
    "    - Males: The distribution is slightly wider, with a few outliers indicating higher purchase values.\n",
    "\n",
    "    - Females: The distribution is more concentrated around the median, with fewer outliers, suggesting a more consistent spending pattern.\n",
    "\n",
    "Purchase Value by Target(Class)"
   ]
  },
  {
   "cell_type": "code",
   "execution_count": null,
   "metadata": {},
   "outputs": [],
   "source": [
    "# Boxplot for purchase_value grouped by class\n",
    "visualizer._boxplot('class', 'purchase_value')"
   ]
  },
  {
   "cell_type": "markdown",
   "metadata": {},
   "source": [
    "**Observation:**\n",
    "\n",
    "**Pattern:**\n",
    "\n",
    "    - Non-Fraud (0): The distribution is wider, with a few outliers indicating higher purchase values. This suggests more variability in the purchase amounts.\n",
    "\n",
    "    - Fraud (1): The distribution is more concentrated around the median, with fewer outliers, suggesting a more consistent spending pattern for fraudulent transactions.\n",
    "\n",
    "**Summary:** The median purchase values are similar between the two classes, but class 0 (non-fraud) shows a broader range of spending, with some individuals making significantly higher purchases than those in class 1 (fraud)."
   ]
  },
  {
   "cell_type": "markdown",
   "metadata": {},
   "source": [
    "**Plot Pairwise relationship between numerical features and target variable**"
   ]
  },
  {
   "cell_type": "code",
   "execution_count": null,
   "metadata": {},
   "outputs": [],
   "source": [
    "# Pairwise relationship\n",
    "visualizer.plot_pairwise_relationships()"
   ]
  },
  {
   "cell_type": "markdown",
   "metadata": {},
   "source": [
    "**Observation:**\n",
    "\n",
    "The pair plot highlights relationships between numerical features (purchase_value and age) and the target variable (class).\n",
    "\n",
    "**Insights:**\n",
    "\n",
    "- High overlap in purchase value distributions between classes 0 (Non-Fraud) and 1 (Fraud) suggests that purchase value alone may not effectively predict class.\n",
    "\n",
    "- The considerable overlap in age distributions for classes 0 (Non-Fraud) and 1 (Fraud) implies that age may not be a strong predictor of class either.\n",
    "\n",
    "**Summary:** The scatter plot indicates a weak positive correlation, suggesting older individuals tend to make slightly higher purchases on average. However, this relationship is not particularly strong."
   ]
  },
  {
   "cell_type": "markdown",
   "metadata": {},
   "source": [
    "**The distribution of varies features by Target variable(class)**"
   ]
  },
  {
   "cell_type": "code",
   "execution_count": null,
   "metadata": {},
   "outputs": [],
   "source": [
    "# plot the distribution of varies feature variables by target variable\n",
    "visualizer.plot_distribution_by_class()"
   ]
  },
  {
   "cell_type": "markdown",
   "metadata": {},
   "source": [
    "**Observation:**\n",
    "\n",
    "The plots reveal differences in the distributions of categorical features (Sex, Source, Browser) between the two classes.\n",
    "\n",
    "Insights:\n",
    "\n",
    "**Sex Distribution:**\n",
    "- Class 0: Higher proportion of males (M) compared to females (F).\n",
    "- Class 1: More balanced distribution, with a slight majority of females.\n",
    "\n",
    "**Source Distribution:**\n",
    "- Class 0: Predominantly from organic search (SEO), followed by paid advertising (Ads).\n",
    "- Class 1: More balanced across sources, with a slight preference for direct traffic.\n",
    "\n",
    "**Browser Distribution:**\n",
    "- Class 0: Popular browsers include Chrome, Internet Explorer (IE), and Safari.\n",
    "- Class 1: More concentrated usage of Chrome, with fewer users on Opera and Safari."
   ]
  },
  {
   "cell_type": "markdown",
   "metadata": {},
   "source": [
    "**Browser usage and purchase value by target variable**"
   ]
  },
  {
   "cell_type": "code",
   "execution_count": null,
   "metadata": {},
   "outputs": [],
   "source": [
    "# Browser usage and Purchase value distribution by target variable\n",
    "visualizer.plot_browser_usage()"
   ]
  },
  {
   "cell_type": "markdown",
   "metadata": {},
   "source": [
    "**Observation:**\n",
    "\n",
    "- Browser Overlap: Most browsers (Chrome, Opera, Safari, IE) show significant overlap in purchase values between non-fraud (class 0) and fraud (class 1) users, suggesting that browser usage is not a strong predictor of fraudulent behavior.\n",
    "\n",
    "- Distinct Separation: FireFox users demonstrate a clearer separation, with non-fraud users (class 0) having consistently higher purchase values. This suggests that FireFox might be a moderately informative feature for identifying fraud."
   ]
  },
  {
   "cell_type": "markdown",
   "metadata": {},
   "source": [
    "**Source vs Browser**"
   ]
  },
  {
   "cell_type": "code",
   "execution_count": null,
   "metadata": {},
   "outputs": [],
   "source": [
    "# Cross-tabulation and heatmap for source and browser\n",
    "visualizer.plot_source_vs_browser_heatmap()"
   ]
  },
  {
   "cell_type": "markdown",
   "metadata": {},
   "source": [
    "**Observation:**\n",
    "\n",
    "- Chrome is the most popular browser across all traffic sources.\n",
    "\n",
    "- SEO is the dominant traffic source for most browsers.\n",
    "\n",
    "- Ads and Direct traffic are more common for Chrome and IE, while Firefox, Opera, and Safari rely mainly on SEO."
   ]
  },
  {
   "cell_type": "markdown",
   "metadata": {},
   "source": [
    "**User purchase analysis**"
   ]
  },
  {
   "cell_type": "markdown",
   "metadata": {},
   "source": [
    "- Purchase delay distribution"
   ]
  },
  {
   "cell_type": "code",
   "execution_count": null,
   "metadata": {},
   "outputs": [],
   "source": [
    "visualizer.plot_purchase_delay_distribution()"
   ]
  },
  {
   "cell_type": "markdown",
   "metadata": {},
   "source": [
    "**Observation:**\n",
    "\n",
    "- Most purchases are completed within a short timeframe, with delays predominantly under 25,000 minutes.\n",
    "\n",
    "- A notable number of purchases experience long delays, as indicated by the distribution's long tail."
   ]
  },
  {
   "cell_type": "markdown",
   "metadata": {},
   "source": [
    "- Purchase Patterns Over Time"
   ]
  },
  {
   "cell_type": "code",
   "execution_count": null,
   "metadata": {},
   "outputs": [],
   "source": [
    "visualizer.plot_purchase_patterns_over_time()"
   ]
  },
  {
   "cell_type": "markdown",
   "metadata": {},
   "source": [
    "**Observation:**\n",
    "\n",
    "- The purchase counts are fairly consistent across all hours of the day, with no significant peaks or valleys, indicating steady activity throughout the day.\n",
    "\n",
    "- There are slight increases during some hours, but the differences are minimal, suggesting that customer purchasing behavior is relatively stable rather than exhibiting pronounced peak times.\n",
    "\n",
    "**Implication:** This consistent pattern indicates that marketing strategies could be effectively spread throughout the day, rather than being concentrated at specific times.\n",
    "\n",
    "- The purchase volumes across the days of the week are relatively similar. There is a slightly higher purchase count on Monday and Sunday, which may relate to weekend shopping or the start of the workweek."
   ]
  },
  {
   "cell_type": "markdown",
   "metadata": {},
   "source": [
    "**Correlation Between Purchase Delay and Purchase Value**"
   ]
  },
  {
   "cell_type": "code",
   "execution_count": null,
   "metadata": {},
   "outputs": [],
   "source": [
    "visualizer.plot_purchase_value_vs_delay()"
   ]
  },
  {
   "cell_type": "markdown",
   "metadata": {},
   "source": [
    "**Observation:**\n",
    "\n",
    "- Purchase value and purchase delay do not provide a reliable basis for predicting fraud, as both classes (non-fraud and fraud) are widely overlapping.\n",
    "\n",
    "- Additional features, such as transaction history or customer information, are likely needed for accurate classification.\n",
    "\n",
    "- Outliers may indicate fraudulent activity; further investigation into these outliers could reveal patterns associated with fraud."
   ]
  },
  {
   "cell_type": "markdown",
   "metadata": {},
   "source": [
    "**Geolocation Analysis**"
   ]
  },
  {
   "cell_type": "markdown",
   "metadata": {},
   "source": [
    "**Merge Datasets for Geolocation Analysis**\n",
    "- Convert IP addresses to integer format\n",
    "- Merge Fraud_Data.csv with IpAddress_to_Country.csv"
   ]
  },
  {
   "cell_type": "code",
   "execution_count": null,
   "metadata": {},
   "outputs": [],
   "source": [
    "def ip_to_int(ip):\n",
    "    \"\"\"Convert an IP address to its integer representation.\"\"\"\n",
    "    try:\n",
    "        return struct.unpack(\"!I\", socket.inet_aton(ip))[0]\n",
    "    except socket.error:\n",
    "        return None  # Handle invalid IPs gracefully\n",
    "\n",
    "# Load the datasets\n",
    "fraud_data = fraud_data.copy()\n",
    "ip_country_data = pd.read_csv('../data/IpAddress_to_Country.csv')\n",
    "\n",
    "# Convert IP addresses in fraud data to integer format\n",
    "fraud_data['ip_int'] = fraud_data['ip_address'].apply(lambda x: ip_to_int(str(int(x))) if not pd.isna(x) else None)\n",
    "\n",
    "# Drop rows with invalid IPs\n",
    "fraud_data.dropna(subset=['ip_int'], inplace=True)\n",
    "\n",
    "# Convert bounds in the country data to integer\n",
    "ip_country_data['lower_bound_ip_address'] = ip_country_data['lower_bound_ip_address'].astype(int)\n",
    "ip_country_data['upper_bound_ip_address'] = ip_country_data['upper_bound_ip_address'].astype(int)\n",
    "\n",
    "# Sort both datasets for merge_asof\n",
    "fraud_data.sort_values('ip_int', inplace=True)\n",
    "ip_country_data.sort_values('lower_bound_ip_address', inplace=True)\n",
    "\n",
    "# Merge the datasets using merge_asof\n",
    "merged_data = pd.merge_asof(\n",
    "    fraud_data,\n",
    "    ip_country_data,\n",
    "    left_on='ip_int',\n",
    "    right_on='lower_bound_ip_address',\n",
    "    direction='backward'\n",
    ")\n",
    "\n",
    "# Filter rows where ip_int is within the lower and upper bounds\n",
    "merged_data = merged_data[(merged_data['ip_int'] >= merged_data['lower_bound_ip_address']) &\n",
    "                          (merged_data['ip_int'] <= merged_data['upper_bound_ip_address'])]\n",
    "\n",
    "# Drop unnecessary columns\n",
    "merged_data.drop(columns=['lower_bound_ip_address', 'upper_bound_ip_address'], inplace=True)\n",
    "\n",
    "# OPTIONAL: Save to csv file\n",
    "merged_data.to_csv('../data/merged_fraud_data.csv')\n",
    "# Display the first few rows of the merged dataset with country information\n",
    "merged_data.head()"
   ]
  },
  {
   "cell_type": "markdown",
   "metadata": {},
   "source": [
    "- Temporal Analysis of Fraudulent Transactions by Country"
   ]
  },
  {
   "cell_type": "code",
   "execution_count": null,
   "metadata": {},
   "outputs": [],
   "source": [
    "# Convert 'purchase_time' to datetime format\n",
    "merged_data['purchase_time'] = pd.to_datetime(merged_data['purchase_time'])\n",
    "\n",
    "# Group fraudulent transactions by day and country\n",
    "daily_fraud = merged_data[merged_data['class'] == 1].groupby([merged_data['purchase_time'].dt.date, 'country']).size().unstack().fillna(0)\n",
    "\n",
    "# Determine the top countries with the highest number of fraudulent transactions\n",
    "top_countries = daily_fraud.sum().nlargest(5).index\n",
    "\n",
    "# Plotting fraud trends over time for the top countries\n",
    "plt.figure(figsize=(14, 7))\n",
    "daily_fraud[top_countries].plot()\n",
    "plt.title('Daily Fraudulent Transactions for Top Countries')\n",
    "plt.xlabel('Date')\n",
    "plt.ylabel('Number of Fraudulent Transactions')\n",
    "plt.legend(title='Country')\n",
    "plt.show()"
   ]
  },
  {
   "cell_type": "markdown",
   "metadata": {},
   "source": [
    "**Observation:**\n",
    "\n",
    "- United States: Had the highest number of fraudulent transactions initially, with a slight decrease over time.\n",
    "\n",
    "- China: Showed moderate fraudulent activity but experienced a significant decline.\n",
    "\n",
    "- Japan, United Kingdom, and Korea: Displayed lower fraudulent transaction volumes, respectively"
   ]
  },
  {
   "cell_type": "markdown",
   "metadata": {},
   "source": [
    "- Load the World GeoDataFrame"
   ]
  },
  {
   "cell_type": "code",
   "execution_count": null,
   "metadata": {},
   "outputs": [],
   "source": [
    "# Initialize the class with file paths\n",
    "fraud_data_path = '../data/merged_fraud_data.csv'\n",
    "world_data_path = '../data/ne_110m_admin_0_countries.shp'\n",
    "\n",
    "# Load your data as DataFrames\n",
    "fraud_data = pd.read_csv(fraud_data_path)\n",
    "world_data = gpd.read_file(world_data_path)\n",
    "\n",
    "# Initialize the class with DataFrames and the logger\n",
    "geo_analyzer = GeolocationAnalyzer(fraud_data=fraud_data, \n",
    "                                   world_gdata=world_data, \n",
    "                                   logger=logger)\n",
    "\n",
    "geo_analyzer.analyze()"
   ]
  },
  {
   "cell_type": "code",
   "execution_count": null,
   "metadata": {},
   "outputs": [],
   "source": [
    "# Calculate total transaction volumes by country\n",
    "highestTranscation = geo_analyzer.calculate_transaction_volume()\n",
    "\n",
    "highestTranscation.sort_values(by='transaction_volume', ascending=False).head(10)"
   ]
  },
  {
   "cell_type": "code",
   "execution_count": null,
   "metadata": {},
   "outputs": [],
   "source": [
    "# Visualize the transaction volume in each contry in the world\n",
    "# For transaction volume map\n",
    "geo_analyzer.plot_transaction_volume_map()"
   ]
  },
  {
   "cell_type": "markdown",
   "metadata": {},
   "source": [
    "**Observatio:**\n",
    "\n",
    "- Significant Transaction Volume: The United States stands out with the highest transaction volume, indicated by the dark blue shading, suggesting that the U.S. is a major contributor to the global transaction volume.\n",
    "\n",
    "- Regional Activity: Other countries, including China and parts of Europe, show moderate transaction volumes, with lighter blue shading. These regions also play a significant role in global transaction activity but at a lower scale compared to the U.S.\n",
    "\n",
    "- Insights: The transaction volume is highly concentrated in a few key regions, with most of the world showing minimal or no transaction activity based on the data."
   ]
  },
  {
   "cell_type": "markdown",
   "metadata": {},
   "source": [
    "**Feature Engineering**"
   ]
  },
  {
   "cell_type": "code",
   "execution_count": null,
   "metadata": {},
   "outputs": [],
   "source": [
    "# Initialize the class with the DataFrame\n",
    "feature_engineering = FeatureEngineering(fraud_data, logger)\n",
    "\n",
    "# Run the pipeline to process the data\n",
    "feature_engineering.pipeline()\n",
    "\n",
    "# Retrieve the processed DataFrame\n",
    "processed_data = feature_engineering.get_processed_data()\n",
    "\n",
    "# View the processed data\n",
    "display(processed_data.head())"
   ]
  },
  {
   "cell_type": "code",
   "execution_count": null,
   "metadata": {},
   "outputs": [],
   "source": [
    "# Save the processed datase to the csv for modeling\n",
    "processed_data.to_csv('../data/processed_fraud_data.csv')"
   ]
  }
 ],
 "metadata": {
  "kernelspec": {
   "display_name": ".venv",
   "language": "python",
   "name": "python3"
  },
  "language_info": {
   "codemirror_mode": {
    "name": "ipython",
    "version": 3
   },
   "file_extension": ".py",
   "mimetype": "text/x-python",
   "name": "python",
   "nbconvert_exporter": "python",
   "pygments_lexer": "ipython3",
   "version": "3.11.9"
  }
 },
 "nbformat": 4,
 "nbformat_minor": 2
}
